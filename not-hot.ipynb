{
 "cells": [
  {
   "cell_type": "code",
   "execution_count": null,
   "id": "52ca5f1f",
   "metadata": {},
   "outputs": [],
   "source": [
    "# import libraries\n",
    "\n",
    "import pandas as pd\n",
    "from bs4 import BeautifulSoup\n",
    "import requests"
   ]
  },
  {
   "cell_type": "code",
   "execution_count": null,
   "id": "919d3d15",
   "metadata": {
    "scrolled": true
   },
   "outputs": [],
   "source": [
    "# read the file of not hot songs\n",
    "\n",
    "data = pd.read_csv('dataset.csv')\n",
    "data = data.sample(3000, random_state=42)\n",
    "display(data)"
   ]
  },
  {
   "cell_type": "code",
   "execution_count": null,
   "id": "182ba04e",
   "metadata": {
    "scrolled": true
   },
   "outputs": [],
   "source": [
    "#read the hot100\n",
    "\n",
    "data2 = pd.read_csv('../lab-web-scraping-single-page/Hot100.csv')\n",
    "display(data2)"
   ]
  },
  {
   "cell_type": "code",
   "execution_count": null,
   "id": "20c1a5c1",
   "metadata": {},
   "outputs": [],
   "source": [
    "# making the Artist and Song columns have the same label for not hot songs dataframe\n",
    "\n",
    "data = data.rename(columns={'artists': 'Artist', 'track_name': 'Song'})\n",
    "data.head()"
   ]
  },
  {
   "cell_type": "code",
   "execution_count": null,
   "id": "14385c99",
   "metadata": {},
   "outputs": [],
   "source": [
    "# identifying common songs based on track names\n",
    "common_songs = data[data['Song'].isin(data2['Song'])]\n",
    "display(common_songs)\n"
   ]
  },
  {
   "cell_type": "code",
   "execution_count": null,
   "id": "37dffe3a",
   "metadata": {},
   "outputs": [],
   "source": [
    "# Drop those rows from data\n",
    "\n",
    "\n",
    "common_songs = data[data['Song'].isin(data2['Song'])].index\n",
    "data = data.drop(common_songs)\n"
   ]
  },
  {
   "cell_type": "code",
   "execution_count": null,
   "id": "a6dec831",
   "metadata": {},
   "outputs": [],
   "source": [
    "display(data)\n",
    "\n",
    "#save the data to CSV\n",
    "\n",
    "# save the dataframe to CSV\n",
    "\n",
    "data.to_csv('not_hot_100.csv', index=False)\n"
   ]
  }
 ],
 "metadata": {
  "kernelspec": {
   "display_name": "Python 3 (ipykernel)",
   "language": "python",
   "name": "python3"
  },
  "language_info": {
   "codemirror_mode": {
    "name": "ipython",
    "version": 3
   },
   "file_extension": ".py",
   "mimetype": "text/x-python",
   "name": "python",
   "nbconvert_exporter": "python",
   "pygments_lexer": "ipython3",
   "version": "3.11.4"
  }
 },
 "nbformat": 4,
 "nbformat_minor": 5
}
